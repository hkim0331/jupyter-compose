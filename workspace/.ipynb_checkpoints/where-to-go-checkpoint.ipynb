{
 "cells": [
  {
   "cell_type": "code",
   "execution_count": 1,
   "id": "fa8e5281-9d47-4cb6-bcb2-3d44988ade76",
   "metadata": {},
   "outputs": [
    {
     "data": {
      "text/plain": [
       "'korewa doko he iku'"
      ]
     },
     "execution_count": 1,
     "metadata": {},
     "output_type": "execute_result"
    }
   ],
   "source": [
    "\"korewa doko he iku\""
   ]
  },
  {
   "cell_type": "code",
   "execution_count": null,
   "id": "b20e3a10-bf16-4820-8357-52d699d48824",
   "metadata": {},
   "outputs": [],
   "source": []
  }
 ],
 "metadata": {
  "kernelspec": {
   "display_name": "Python 3 (ipykernel)",
   "language": "python",
   "name": "python3"
  },
  "language_info": {
   "codemirror_mode": {
    "name": "ipython",
    "version": 3
   },
   "file_extension": ".py",
   "mimetype": "text/x-python",
   "name": "python",
   "nbconvert_exporter": "python",
   "pygments_lexer": "ipython3",
   "version": "3.10.2"
  }
 },
 "nbformat": 4,
 "nbformat_minor": 5
}
